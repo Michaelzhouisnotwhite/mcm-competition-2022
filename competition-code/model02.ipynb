{
 "cells": [
  {
   "cell_type": "code",
   "execution_count": 1,
   "metadata": {},
   "outputs": [],
   "source": [
    "import pandas as pd\n",
    "import numpy as np\n",
    "import pylab as plt"
   ]
  },
  {
   "cell_type": "code",
   "execution_count": 2,
   "metadata": {},
   "outputs": [],
   "source": [
    "gen_data = pd.read_csv('盈亏比.csv', index_col=0)"
   ]
  },
  {
   "cell_type": "code",
   "execution_count": 3,
   "metadata": {},
   "outputs": [],
   "source": [
    "target_columns = gen_data.columns[:4].to_list() + ['gold_macd', 'bit_macd', 'gold_ma5', 'gold_ma15',\n",
    "                                         'bit_ma5', 'bit_ma15', 'gold_rsi_15', 'bit_rsi_5', 'gold_growth_rate', 'bit_growth_rate']\n",
    "target_data = gen_data[target_columns]"
   ]
  },
  {
   "cell_type": "code",
   "execution_count": 4,
   "metadata": {},
   "outputs": [],
   "source": [
    "df = target_data.iloc[15:36]"
   ]
  },
  {
   "cell_type": "code",
   "execution_count": 5,
   "metadata": {},
   "outputs": [
    {
     "data": {
      "text/plain": "          Date  USD (PM)   Value  able_trade_gold  gold_macd  bit_macd  \\\n15  2016-09-26   1340.50  598.98              1.0   5.927091 -1.713588   \n16  2016-09-27   1327.00  605.96              1.0   3.937995 -0.497108   \n17  2016-09-28   1322.50  605.67              1.0   1.886938  0.338882   \n18  2016-09-29   1318.10  603.85              1.0  -0.086973  0.696510   \n19  2016-09-30   1322.50  609.39              1.0  -0.785665  1.673372   \n20  2016-10-01   1322.50  614.82              0.0  -1.208253  2.969295   \n21  2016-10-02   1322.50  612.98              0.0  -1.432877  3.462587   \n22  2016-10-03   1313.30  611.85              1.0  -2.692626  3.509677   \n23  2016-10-04   1283.30  609.62              1.0  -7.183810  3.126229   \n24  2016-10-05   1269.40  607.18              1.0 -11.393659  2.459101   \n25  2016-10-06   1254.50  612.08              1.0 -15.308151  2.580377   \n26  2016-10-07   1258.75  617.21              1.0 -16.353208  3.212928   \n27  2016-10-08   1258.75  614.74              0.0 -16.050153  3.155425   \n28  2016-10-09   1258.75  615.65              0.0 -14.881433  3.092639   \n29  2016-10-10   1259.50  617.54              1.0 -13.101753  3.147868   \n30  2016-10-11   1253.45  614.77              1.0 -11.870487  2.672215   \n31  2016-10-12   1256.50  635.01              1.0  -9.858965  4.819549   \n32  2016-10-13   1261.05  635.96              1.0  -7.249917  6.025284   \n33  2016-10-14   1251.75  634.02              1.0  -6.154347  6.195036   \n34  2016-10-15   1251.75  637.94              0.0  -4.863793  6.440379   \n35  2016-10-16   1251.75  641.42              0.0  -3.507592  6.649402   \n\n    gold_ma5    gold_ma15  bit_ma5    bit_ma15  gold_rsi_15  bit_rsi_5  \\\n15   1339.11  1323.743333  599.220  605.423333    65.497679  50.516083   \n16   1336.69  1323.903333  600.928  605.176000    52.043513  67.229457   \n17   1333.46  1323.826667  603.246  604.826000    49.351888  76.579341   \n18   1329.35  1323.583333  603.240  604.494667    47.609961  50.084193   \n19   1326.12  1324.363333  604.770  604.428667    59.312987  72.073277   \n20   1322.52  1325.306667  607.938  604.809333    61.682971  89.514327   \n21   1321.62  1326.250000  609.342  605.205333    61.682971  73.632225   \n22   1319.78  1326.580000  610.578  605.223333    53.697314  69.755880   \n23   1312.82  1324.476667  611.732  605.185333    33.355474  68.076051   \n24   1302.20  1321.516667  611.290  605.086667    29.256448  41.649904   \n25   1288.60  1316.743333  610.742  605.966667    17.286077  39.263901   \n26   1275.85  1311.386667  611.588  607.286000    10.448095  63.415939   \n27   1264.94  1306.060000  612.166  608.663333    10.493536  58.544884   \n28   1260.03  1300.733333  613.372  609.448000    10.493536  69.138013   \n29   1258.05  1295.456667  615.444  610.501333    11.178475  83.994696   \n30   1257.84  1289.653333  615.982  611.554000     9.007720  60.374166   \n31   1257.39  1284.953333  619.542  613.490667    13.245925  81.533243   \n32   1257.85  1280.856667  623.786  615.510000    18.106377  89.677663   \n33   1256.45  1276.433333  627.460  617.521333    17.165833  83.262491   \n34   1254.90  1271.716667  631.540  619.424667    13.458514  84.344828   \n35   1254.56  1267.000000  636.870  621.198000    13.458514  93.788074   \n\n    gold_growth_rate  bit_growth_rate  \n15          0.138199        -0.458670  \n16         -1.007087         1.165314  \n17         -0.339111        -0.047858  \n18         -0.332703        -0.300494  \n19          0.333814         0.917446  \n20          0.000000         0.891055  \n21          0.000000        -0.299275  \n22         -0.695652        -0.184345  \n23         -2.284322        -0.364468  \n24         -1.083145        -0.400249  \n25         -1.173783         0.807009  \n26          0.338780         0.838126  \n27          0.000000        -0.400188  \n28          0.000000         0.148030  \n29          0.059583         0.306993  \n30         -0.480349        -0.448554  \n31          0.243328         3.292288  \n32          0.362117         0.149604  \n33         -0.737481        -0.305051  \n34          0.000000         0.618277  \n35          0.000000         0.545506  ",
      "text/html": "<div>\n<style scoped>\n    .dataframe tbody tr th:only-of-type {\n        vertical-align: middle;\n    }\n\n    .dataframe tbody tr th {\n        vertical-align: top;\n    }\n\n    .dataframe thead th {\n        text-align: right;\n    }\n</style>\n<table border=\"1\" class=\"dataframe\">\n  <thead>\n    <tr style=\"text-align: right;\">\n      <th></th>\n      <th>Date</th>\n      <th>USD (PM)</th>\n      <th>Value</th>\n      <th>able_trade_gold</th>\n      <th>gold_macd</th>\n      <th>bit_macd</th>\n      <th>gold_ma5</th>\n      <th>gold_ma15</th>\n      <th>bit_ma5</th>\n      <th>bit_ma15</th>\n      <th>gold_rsi_15</th>\n      <th>bit_rsi_5</th>\n      <th>gold_growth_rate</th>\n      <th>bit_growth_rate</th>\n    </tr>\n  </thead>\n  <tbody>\n    <tr>\n      <th>15</th>\n      <td>2016-09-26</td>\n      <td>1340.50</td>\n      <td>598.98</td>\n      <td>1.0</td>\n      <td>5.927091</td>\n      <td>-1.713588</td>\n      <td>1339.11</td>\n      <td>1323.743333</td>\n      <td>599.220</td>\n      <td>605.423333</td>\n      <td>65.497679</td>\n      <td>50.516083</td>\n      <td>0.138199</td>\n      <td>-0.458670</td>\n    </tr>\n    <tr>\n      <th>16</th>\n      <td>2016-09-27</td>\n      <td>1327.00</td>\n      <td>605.96</td>\n      <td>1.0</td>\n      <td>3.937995</td>\n      <td>-0.497108</td>\n      <td>1336.69</td>\n      <td>1323.903333</td>\n      <td>600.928</td>\n      <td>605.176000</td>\n      <td>52.043513</td>\n      <td>67.229457</td>\n      <td>-1.007087</td>\n      <td>1.165314</td>\n    </tr>\n    <tr>\n      <th>17</th>\n      <td>2016-09-28</td>\n      <td>1322.50</td>\n      <td>605.67</td>\n      <td>1.0</td>\n      <td>1.886938</td>\n      <td>0.338882</td>\n      <td>1333.46</td>\n      <td>1323.826667</td>\n      <td>603.246</td>\n      <td>604.826000</td>\n      <td>49.351888</td>\n      <td>76.579341</td>\n      <td>-0.339111</td>\n      <td>-0.047858</td>\n    </tr>\n    <tr>\n      <th>18</th>\n      <td>2016-09-29</td>\n      <td>1318.10</td>\n      <td>603.85</td>\n      <td>1.0</td>\n      <td>-0.086973</td>\n      <td>0.696510</td>\n      <td>1329.35</td>\n      <td>1323.583333</td>\n      <td>603.240</td>\n      <td>604.494667</td>\n      <td>47.609961</td>\n      <td>50.084193</td>\n      <td>-0.332703</td>\n      <td>-0.300494</td>\n    </tr>\n    <tr>\n      <th>19</th>\n      <td>2016-09-30</td>\n      <td>1322.50</td>\n      <td>609.39</td>\n      <td>1.0</td>\n      <td>-0.785665</td>\n      <td>1.673372</td>\n      <td>1326.12</td>\n      <td>1324.363333</td>\n      <td>604.770</td>\n      <td>604.428667</td>\n      <td>59.312987</td>\n      <td>72.073277</td>\n      <td>0.333814</td>\n      <td>0.917446</td>\n    </tr>\n    <tr>\n      <th>20</th>\n      <td>2016-10-01</td>\n      <td>1322.50</td>\n      <td>614.82</td>\n      <td>0.0</td>\n      <td>-1.208253</td>\n      <td>2.969295</td>\n      <td>1322.52</td>\n      <td>1325.306667</td>\n      <td>607.938</td>\n      <td>604.809333</td>\n      <td>61.682971</td>\n      <td>89.514327</td>\n      <td>0.000000</td>\n      <td>0.891055</td>\n    </tr>\n    <tr>\n      <th>21</th>\n      <td>2016-10-02</td>\n      <td>1322.50</td>\n      <td>612.98</td>\n      <td>0.0</td>\n      <td>-1.432877</td>\n      <td>3.462587</td>\n      <td>1321.62</td>\n      <td>1326.250000</td>\n      <td>609.342</td>\n      <td>605.205333</td>\n      <td>61.682971</td>\n      <td>73.632225</td>\n      <td>0.000000</td>\n      <td>-0.299275</td>\n    </tr>\n    <tr>\n      <th>22</th>\n      <td>2016-10-03</td>\n      <td>1313.30</td>\n      <td>611.85</td>\n      <td>1.0</td>\n      <td>-2.692626</td>\n      <td>3.509677</td>\n      <td>1319.78</td>\n      <td>1326.580000</td>\n      <td>610.578</td>\n      <td>605.223333</td>\n      <td>53.697314</td>\n      <td>69.755880</td>\n      <td>-0.695652</td>\n      <td>-0.184345</td>\n    </tr>\n    <tr>\n      <th>23</th>\n      <td>2016-10-04</td>\n      <td>1283.30</td>\n      <td>609.62</td>\n      <td>1.0</td>\n      <td>-7.183810</td>\n      <td>3.126229</td>\n      <td>1312.82</td>\n      <td>1324.476667</td>\n      <td>611.732</td>\n      <td>605.185333</td>\n      <td>33.355474</td>\n      <td>68.076051</td>\n      <td>-2.284322</td>\n      <td>-0.364468</td>\n    </tr>\n    <tr>\n      <th>24</th>\n      <td>2016-10-05</td>\n      <td>1269.40</td>\n      <td>607.18</td>\n      <td>1.0</td>\n      <td>-11.393659</td>\n      <td>2.459101</td>\n      <td>1302.20</td>\n      <td>1321.516667</td>\n      <td>611.290</td>\n      <td>605.086667</td>\n      <td>29.256448</td>\n      <td>41.649904</td>\n      <td>-1.083145</td>\n      <td>-0.400249</td>\n    </tr>\n    <tr>\n      <th>25</th>\n      <td>2016-10-06</td>\n      <td>1254.50</td>\n      <td>612.08</td>\n      <td>1.0</td>\n      <td>-15.308151</td>\n      <td>2.580377</td>\n      <td>1288.60</td>\n      <td>1316.743333</td>\n      <td>610.742</td>\n      <td>605.966667</td>\n      <td>17.286077</td>\n      <td>39.263901</td>\n      <td>-1.173783</td>\n      <td>0.807009</td>\n    </tr>\n    <tr>\n      <th>26</th>\n      <td>2016-10-07</td>\n      <td>1258.75</td>\n      <td>617.21</td>\n      <td>1.0</td>\n      <td>-16.353208</td>\n      <td>3.212928</td>\n      <td>1275.85</td>\n      <td>1311.386667</td>\n      <td>611.588</td>\n      <td>607.286000</td>\n      <td>10.448095</td>\n      <td>63.415939</td>\n      <td>0.338780</td>\n      <td>0.838126</td>\n    </tr>\n    <tr>\n      <th>27</th>\n      <td>2016-10-08</td>\n      <td>1258.75</td>\n      <td>614.74</td>\n      <td>0.0</td>\n      <td>-16.050153</td>\n      <td>3.155425</td>\n      <td>1264.94</td>\n      <td>1306.060000</td>\n      <td>612.166</td>\n      <td>608.663333</td>\n      <td>10.493536</td>\n      <td>58.544884</td>\n      <td>0.000000</td>\n      <td>-0.400188</td>\n    </tr>\n    <tr>\n      <th>28</th>\n      <td>2016-10-09</td>\n      <td>1258.75</td>\n      <td>615.65</td>\n      <td>0.0</td>\n      <td>-14.881433</td>\n      <td>3.092639</td>\n      <td>1260.03</td>\n      <td>1300.733333</td>\n      <td>613.372</td>\n      <td>609.448000</td>\n      <td>10.493536</td>\n      <td>69.138013</td>\n      <td>0.000000</td>\n      <td>0.148030</td>\n    </tr>\n    <tr>\n      <th>29</th>\n      <td>2016-10-10</td>\n      <td>1259.50</td>\n      <td>617.54</td>\n      <td>1.0</td>\n      <td>-13.101753</td>\n      <td>3.147868</td>\n      <td>1258.05</td>\n      <td>1295.456667</td>\n      <td>615.444</td>\n      <td>610.501333</td>\n      <td>11.178475</td>\n      <td>83.994696</td>\n      <td>0.059583</td>\n      <td>0.306993</td>\n    </tr>\n    <tr>\n      <th>30</th>\n      <td>2016-10-11</td>\n      <td>1253.45</td>\n      <td>614.77</td>\n      <td>1.0</td>\n      <td>-11.870487</td>\n      <td>2.672215</td>\n      <td>1257.84</td>\n      <td>1289.653333</td>\n      <td>615.982</td>\n      <td>611.554000</td>\n      <td>9.007720</td>\n      <td>60.374166</td>\n      <td>-0.480349</td>\n      <td>-0.448554</td>\n    </tr>\n    <tr>\n      <th>31</th>\n      <td>2016-10-12</td>\n      <td>1256.50</td>\n      <td>635.01</td>\n      <td>1.0</td>\n      <td>-9.858965</td>\n      <td>4.819549</td>\n      <td>1257.39</td>\n      <td>1284.953333</td>\n      <td>619.542</td>\n      <td>613.490667</td>\n      <td>13.245925</td>\n      <td>81.533243</td>\n      <td>0.243328</td>\n      <td>3.292288</td>\n    </tr>\n    <tr>\n      <th>32</th>\n      <td>2016-10-13</td>\n      <td>1261.05</td>\n      <td>635.96</td>\n      <td>1.0</td>\n      <td>-7.249917</td>\n      <td>6.025284</td>\n      <td>1257.85</td>\n      <td>1280.856667</td>\n      <td>623.786</td>\n      <td>615.510000</td>\n      <td>18.106377</td>\n      <td>89.677663</td>\n      <td>0.362117</td>\n      <td>0.149604</td>\n    </tr>\n    <tr>\n      <th>33</th>\n      <td>2016-10-14</td>\n      <td>1251.75</td>\n      <td>634.02</td>\n      <td>1.0</td>\n      <td>-6.154347</td>\n      <td>6.195036</td>\n      <td>1256.45</td>\n      <td>1276.433333</td>\n      <td>627.460</td>\n      <td>617.521333</td>\n      <td>17.165833</td>\n      <td>83.262491</td>\n      <td>-0.737481</td>\n      <td>-0.305051</td>\n    </tr>\n    <tr>\n      <th>34</th>\n      <td>2016-10-15</td>\n      <td>1251.75</td>\n      <td>637.94</td>\n      <td>0.0</td>\n      <td>-4.863793</td>\n      <td>6.440379</td>\n      <td>1254.90</td>\n      <td>1271.716667</td>\n      <td>631.540</td>\n      <td>619.424667</td>\n      <td>13.458514</td>\n      <td>84.344828</td>\n      <td>0.000000</td>\n      <td>0.618277</td>\n    </tr>\n    <tr>\n      <th>35</th>\n      <td>2016-10-16</td>\n      <td>1251.75</td>\n      <td>641.42</td>\n      <td>0.0</td>\n      <td>-3.507592</td>\n      <td>6.649402</td>\n      <td>1254.56</td>\n      <td>1267.000000</td>\n      <td>636.870</td>\n      <td>621.198000</td>\n      <td>13.458514</td>\n      <td>93.788074</td>\n      <td>0.000000</td>\n      <td>0.545506</td>\n    </tr>\n  </tbody>\n</table>\n</div>"
     },
     "execution_count": 5,
     "metadata": {},
     "output_type": "execute_result"
    }
   ],
   "source": [
    "df"
   ]
  },
  {
   "cell_type": "code",
   "execution_count": 6,
   "metadata": {},
   "outputs": [],
   "source": [
    "df.reset_index(inplace=True)"
   ]
  },
  {
   "cell_type": "code",
   "execution_count": 7,
   "metadata": {},
   "outputs": [
    {
     "data": {
      "text/plain": "   index        Date  USD (PM)   Value  able_trade_gold  gold_macd  bit_macd  \\\n0     15  2016-09-26    1340.5  598.98              1.0   5.927091 -1.713588   \n1     16  2016-09-27    1327.0  605.96              1.0   3.937995 -0.497108   \n2     17  2016-09-28    1322.5  605.67              1.0   1.886938  0.338882   \n3     18  2016-09-29    1318.1  603.85              1.0  -0.086973  0.696510   \n4     19  2016-09-30    1322.5  609.39              1.0  -0.785665  1.673372   \n\n   gold_ma5    gold_ma15  bit_ma5    bit_ma15  gold_rsi_15  bit_rsi_5  \\\n0   1339.11  1323.743333  599.220  605.423333    65.497679  50.516083   \n1   1336.69  1323.903333  600.928  605.176000    52.043513  67.229457   \n2   1333.46  1323.826667  603.246  604.826000    49.351888  76.579341   \n3   1329.35  1323.583333  603.240  604.494667    47.609961  50.084193   \n4   1326.12  1324.363333  604.770  604.428667    59.312987  72.073277   \n\n   gold_growth_rate  bit_growth_rate  \n0          0.138199        -0.458670  \n1         -1.007087         1.165314  \n2         -0.339111        -0.047858  \n3         -0.332703        -0.300494  \n4          0.333814         0.917446  ",
      "text/html": "<div>\n<style scoped>\n    .dataframe tbody tr th:only-of-type {\n        vertical-align: middle;\n    }\n\n    .dataframe tbody tr th {\n        vertical-align: top;\n    }\n\n    .dataframe thead th {\n        text-align: right;\n    }\n</style>\n<table border=\"1\" class=\"dataframe\">\n  <thead>\n    <tr style=\"text-align: right;\">\n      <th></th>\n      <th>index</th>\n      <th>Date</th>\n      <th>USD (PM)</th>\n      <th>Value</th>\n      <th>able_trade_gold</th>\n      <th>gold_macd</th>\n      <th>bit_macd</th>\n      <th>gold_ma5</th>\n      <th>gold_ma15</th>\n      <th>bit_ma5</th>\n      <th>bit_ma15</th>\n      <th>gold_rsi_15</th>\n      <th>bit_rsi_5</th>\n      <th>gold_growth_rate</th>\n      <th>bit_growth_rate</th>\n    </tr>\n  </thead>\n  <tbody>\n    <tr>\n      <th>0</th>\n      <td>15</td>\n      <td>2016-09-26</td>\n      <td>1340.5</td>\n      <td>598.98</td>\n      <td>1.0</td>\n      <td>5.927091</td>\n      <td>-1.713588</td>\n      <td>1339.11</td>\n      <td>1323.743333</td>\n      <td>599.220</td>\n      <td>605.423333</td>\n      <td>65.497679</td>\n      <td>50.516083</td>\n      <td>0.138199</td>\n      <td>-0.458670</td>\n    </tr>\n    <tr>\n      <th>1</th>\n      <td>16</td>\n      <td>2016-09-27</td>\n      <td>1327.0</td>\n      <td>605.96</td>\n      <td>1.0</td>\n      <td>3.937995</td>\n      <td>-0.497108</td>\n      <td>1336.69</td>\n      <td>1323.903333</td>\n      <td>600.928</td>\n      <td>605.176000</td>\n      <td>52.043513</td>\n      <td>67.229457</td>\n      <td>-1.007087</td>\n      <td>1.165314</td>\n    </tr>\n    <tr>\n      <th>2</th>\n      <td>17</td>\n      <td>2016-09-28</td>\n      <td>1322.5</td>\n      <td>605.67</td>\n      <td>1.0</td>\n      <td>1.886938</td>\n      <td>0.338882</td>\n      <td>1333.46</td>\n      <td>1323.826667</td>\n      <td>603.246</td>\n      <td>604.826000</td>\n      <td>49.351888</td>\n      <td>76.579341</td>\n      <td>-0.339111</td>\n      <td>-0.047858</td>\n    </tr>\n    <tr>\n      <th>3</th>\n      <td>18</td>\n      <td>2016-09-29</td>\n      <td>1318.1</td>\n      <td>603.85</td>\n      <td>1.0</td>\n      <td>-0.086973</td>\n      <td>0.696510</td>\n      <td>1329.35</td>\n      <td>1323.583333</td>\n      <td>603.240</td>\n      <td>604.494667</td>\n      <td>47.609961</td>\n      <td>50.084193</td>\n      <td>-0.332703</td>\n      <td>-0.300494</td>\n    </tr>\n    <tr>\n      <th>4</th>\n      <td>19</td>\n      <td>2016-09-30</td>\n      <td>1322.5</td>\n      <td>609.39</td>\n      <td>1.0</td>\n      <td>-0.785665</td>\n      <td>1.673372</td>\n      <td>1326.12</td>\n      <td>1324.363333</td>\n      <td>604.770</td>\n      <td>604.428667</td>\n      <td>59.312987</td>\n      <td>72.073277</td>\n      <td>0.333814</td>\n      <td>0.917446</td>\n    </tr>\n  </tbody>\n</table>\n</div>"
     },
     "execution_count": 7,
     "metadata": {},
     "output_type": "execute_result"
    }
   ],
   "source": [
    "df.head()"
   ]
  },
  {
   "cell_type": "code",
   "execution_count": 9,
   "metadata": {},
   "outputs": [
    {
     "name": "stderr",
     "output_type": "stream",
     "text": [
      "D:\\Anaconda\\envs\\deeplab\\lib\\site-packages\\ipykernel_launcher.py:4: SettingWithCopyWarning: \n",
      "A value is trying to be set on a copy of a slice from a DataFrame.\n",
      "Try using .loc[row_indexer,col_indexer] = value instead\n",
      "\n",
      "See the caveats in the documentation: https://pandas.pydata.org/pandas-docs/stable/user_guide/indexing.html#returning-a-view-versus-a-copy\n",
      "  after removing the cwd from sys.path.\n",
      "D:\\Anaconda\\envs\\deeplab\\lib\\site-packages\\ipykernel_launcher.py:10: SettingWithCopyWarning: \n",
      "A value is trying to be set on a copy of a slice from a DataFrame\n",
      "\n",
      "See the caveats in the documentation: https://pandas.pydata.org/pandas-docs/stable/user_guide/indexing.html#returning-a-view-versus-a-copy\n",
      "  # Remove the CWD from sys.path while we load stuff.\n",
      "D:\\Anaconda\\envs\\deeplab\\lib\\site-packages\\ipykernel_launcher.py:11: SettingWithCopyWarning: \n",
      "A value is trying to be set on a copy of a slice from a DataFrame.\n",
      "Try using .loc[row_indexer,col_indexer] = value instead\n",
      "\n",
      "See the caveats in the documentation: https://pandas.pydata.org/pandas-docs/stable/user_guide/indexing.html#returning-a-view-versus-a-copy\n",
      "  # This is added back by InteractiveShellApp.init_path()\n"
     ]
    }
   ],
   "source": [
    "def sigmoid(Z):\n",
    "    return 1/(1+np.exp(-Z))\n",
    "\n",
    "df['gold_m'] = 0\n",
    "gw = np.zeros((df.shape[0] - 1, 4))\n",
    "gb = np.zeros((df.shape[0] - 1, 1))\n",
    "\n",
    "gw[0] = np.random.rand(1, 4)\n",
    "gb[0] = np.random.rand(1, 1)\n",
    "df['gold_m'][0] = 1000\n",
    "df['gold_profit'] = 0"
   ]
  },
  {
   "cell_type": "code",
   "execution_count": null,
   "outputs": [],
   "source": [
    "indicates = df[['gold_ma5', 'gold_ma15','gold_rsi_15','gold_macd']]\n",
    "lr = 0.01\n",
    "def get_pt(z, i):\n",
    "    return sigmoid(np.matmul(gw[i - 1], z) + gb[i - 1])\n",
    "for i in range(1, df.shape[0]):\n",
    "    df['gold_m'][i] = df['gold_m'][i - 1] + df['gold_share'][i - 1] * df['gold_growth_rate'][i -1]\n",
    "    df['gold_profit'][i] = df['gold_m'][i] * get_pt(indicates.values[i].to_numpy(), i) * df['gold_growth_rate'][i]"
   ],
   "metadata": {
    "collapsed": false,
    "pycharm": {
     "name": "#%%\n"
    }
   }
  }
 ],
 "metadata": {
  "interpreter": {
   "hash": "ecae59e36edac920ceb43795ff371fc2cc92248ebecf572615877361fb7f6b56"
  },
  "kernelspec": {
   "display_name": "Python 3.7.9 ('deeplab')",
   "language": "python",
   "name": "python3"
  },
  "language_info": {
   "codemirror_mode": {
    "name": "ipython",
    "version": 3
   },
   "file_extension": ".py",
   "mimetype": "text/x-python",
   "name": "python",
   "nbconvert_exporter": "python",
   "pygments_lexer": "ipython3",
   "version": "3.7.9"
  },
  "orig_nbformat": 4
 },
 "nbformat": 4,
 "nbformat_minor": 2
}